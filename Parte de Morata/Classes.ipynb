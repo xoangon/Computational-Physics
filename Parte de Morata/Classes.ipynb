{
 "cells": [
  {
   "cell_type": "markdown",
   "metadata": {},
   "source": [
    "# Introduction to classes"
   ]
  },
  {
   "cell_type": "markdown",
   "metadata": {},
   "source": [
    "### Exercise 2"
   ]
  },
  {
   "cell_type": "code",
   "execution_count": 619,
   "metadata": {},
   "outputs": [
    {
     "name": "stdout",
     "output_type": "stream",
     "text": [
      "<class 'list'>\n",
      "<class 'tuple'>\n",
      "<class 'dict'>\n"
     ]
    }
   ],
   "source": [
    "print(type([1, 2]))\n",
    "\n",
    "print(type((1, 2)))\n",
    "\n",
    "print(type({'a':1, 'b':2}))"
   ]
  },
  {
   "cell_type": "markdown",
   "metadata": {},
   "source": [
    "### Exercise 3"
   ]
  },
  {
   "cell_type": "code",
   "execution_count": 620,
   "metadata": {},
   "outputs": [
    {
     "name": "stdout",
     "output_type": "stream",
     "text": [
      "[1, 2, 3, 4, 5, 6, 7, 8, 9, 10]\n"
     ]
    }
   ],
   "source": [
    "list1 = [1, 2, 3, 4, 5]\n",
    "\n",
    "list2 = [6, 7, 8, 9, 10]\n",
    "\n",
    "print(list1 + list2)"
   ]
  },
  {
   "cell_type": "code",
   "execution_count": 621,
   "metadata": {},
   "outputs": [],
   "source": [
    "#The operation + applied to lists agregates one after the other"
   ]
  },
  {
   "cell_type": "markdown",
   "metadata": {},
   "source": [
    "### Exercise 4"
   ]
  },
  {
   "cell_type": "code",
   "execution_count": 622,
   "metadata": {},
   "outputs": [
    {
     "name": "stdout",
     "output_type": "stream",
     "text": [
      "[2, 2, 3, 4, 5] [2, 2, 3, 4, 5]\n"
     ]
    }
   ],
   "source": [
    "list3 = list1\n",
    "\n",
    "list1[0] = 2\n",
    "\n",
    "print(list1, list3)"
   ]
  },
  {
   "cell_type": "code",
   "execution_count": 623,
   "metadata": {},
   "outputs": [],
   "source": [
    "#The assigment = changes an element on the list. Note that list3 is not\n",
    "#a new object, but another name of list1. We can create another list\n",
    "#with the constructor list()."
   ]
  },
  {
   "cell_type": "code",
   "execution_count": 624,
   "metadata": {},
   "outputs": [
    {
     "name": "stdout",
     "output_type": "stream",
     "text": [
      "[5, 8, 8, 9, 10] [6, 7, 8, 9, 10]\n"
     ]
    }
   ],
   "source": [
    "list4 = list(list2)\n",
    "\n",
    "list2[0], list2[1] = 5, 8\n",
    "\n",
    "print(list2, list4)"
   ]
  },
  {
   "cell_type": "code",
   "execution_count": 625,
   "metadata": {},
   "outputs": [],
   "source": [
    "#Now list 4 remains unchanged"
   ]
  },
  {
   "cell_type": "markdown",
   "metadata": {},
   "source": [
    "# Classes"
   ]
  },
  {
   "cell_type": "markdown",
   "metadata": {},
   "source": [
    "### Exercise 1"
   ]
  },
  {
   "cell_type": "code",
   "execution_count": 1,
   "metadata": {},
   "outputs": [],
   "source": [
    "import math\n",
    "\n",
    "class Complex:\n",
    "    \"\"\" Complex number with module and phase as attributes\n",
    "    \"\"\"\n",
    "        \n",
    "    def __init__(self, mod, phase):\n",
    "        \"\"\" To construct a complex number from the module and the phase\n",
    "        \"\"\"\n",
    "        if (mod < 0): \n",
    "            raise TypeError('module must be zero or positive')\n",
    "        self.mod   = mod\n",
    "        self.phase = phase\n",
    "        return\n",
    "    \n",
    "    def real(self):\n",
    "        \"\"\" return the real part\n",
    "        \"\"\"\n",
    "        real = self.mod * math.cos(self.phase) \n",
    "        return real\n",
    " \n",
    "    def img(self):\n",
    "        \"\"\" return the imaginary part\n",
    "        \"\"\"\n",
    "        img = self.mod * math.sin(self.phase)\n",
    "        return img\n",
    "    \n",
    "    def __abs__(self):\n",
    "        \"\"\" return the module\n",
    "        \"\"\"\n",
    "        return self.mod\n",
    "    \n",
    "    def __add__(self, y):\n",
    "        \"\"\" add to complex numbers <=> x+y\n",
    "        \"\"\"\n",
    "        real = self.real() + y.real()\n",
    "        img  = self.img()  + y.img()\n",
    "        mod  = math.sqrt(real*real + img*img)\n",
    "        phase = 0.\n",
    "        if (mod > 0): \n",
    "            phase = math.acos(real / mod)\n",
    "        return Complex(mod, phase)\n",
    "    \n",
    "    def __prod__(self, y):\n",
    "        \"\"\" the product of two complex numbers: x*y\n",
    "        \"\"\" \n",
    "        mod   = self.mod   * y.mod\n",
    "        phase = self.phase + y.phase\n",
    "        return Complex(mod, phase)\n",
    "        \n",
    "    def conjugate(self):\n",
    "        \"\"\" complex conjugate\n",
    "        \"\"\"\n",
    "        return Complex(self.mod, -1. * self.phase)\n",
    "    \n",
    "    def __str__(self):\n",
    "        \"\"\" convert to a string\n",
    "        \"\"\"\n",
    "        s = str(self.mod)+'e^'+str(self.phase)\n",
    "        return s"
   ]
  },
  {
   "cell_type": "markdown",
   "metadata": {},
   "source": [
    "### Vector Class"
   ]
  },
  {
   "cell_type": "code",
   "execution_count": 2,
   "metadata": {},
   "outputs": [],
   "source": [
    "import math\n",
    "\n",
    "import numpy as np\n",
    "\n",
    "class Vector3D:\n",
    "    \n",
    "    def __init__(self, x, y, z):\n",
    "        \"\"\" constructor of a Vector3D. Inputs: x, y, z coordinates\n",
    "        \"\"\"\n",
    "        self.x = x\n",
    "        self.y = y\n",
    "        self.z = z\n",
    "        return\n",
    "    \n",
    "    def __str__(self):\n",
    "        \"\"\" convert a Vector3D to a string\n",
    "        \"\"\"\n",
    "        ss = '(' + str(self.x) + ',' + str(self.y) + ',' + str(self.z) + ')'\n",
    "        return ss\n",
    "    \n",
    "    def __add__(self, b):\n",
    "        \"\"\" add two Vector3D\n",
    "        \"\"\"\n",
    "        x = self.x + b.x\n",
    "        y = self.y + b.y\n",
    "        z = self.z + b.z\n",
    "        return Vector3D(x, y, z)\n",
    "    \n",
    "    def __mul__(self, value):\n",
    "        \"\"\" multiplies the Vector3D times the value if integer or float. Scalar product if value is an array or list\n",
    "        \"\"\"\n",
    "        if type(value) == int or type(value) == float:\n",
    "            x = self.x * value\n",
    "            y = self.y * value\n",
    "            z = self.z * value\n",
    "            return Vector3D(x, y, z)\n",
    "        \n",
    "        if type(value) == list or type(value) == np.ndarray:\n",
    "            x = self.x * value[0]\n",
    "            y = self.y * value[1]\n",
    "            z = self.z * value[2]\n",
    "            return Vector3D(x, y, z)\n",
    "        \n",
    "    def __rmul__(self, value):\n",
    "        \"\"\" multiplies the value times the Vector3D if integer or float. Scalar product if value is an array or list\n",
    "        \"\"\"\n",
    "        return Vector3D.__mul__(self, value)\n",
    "    \n",
    "    def cross(self, vector):\n",
    "        \"\"\" performs the vectorial product of Vector3D times vector\n",
    "        \"\"\"\n",
    "        x = self.y * vector[2] - self.z * vector[1]\n",
    "        y = self.z * vector[0] - self.x * vector[2]\n",
    "        z = self.x * vector[1] - self.y * vector[0]\n",
    "        return Vector3D(x, y, z)\n",
    "    \n",
    "    def __abs(self):\n",
    "        \"\"\" calculates the module of the Vector3D\n",
    "        \"\"\"\n",
    "        return math.sqrt(self * self)\n",
    "    \n",
    "    def __eq__(self, b):\n",
    "        assert isinstance(b, Vector3D)\n",
    "        return self.x == b"
   ]
  },
  {
   "cell_type": "code",
   "execution_count": 3,
   "metadata": {},
   "outputs": [],
   "source": [
    "class Vector:\n",
    "    \n",
    "    def __init__(self, a):\n",
    "        \"\"\" constructor of a Vector. Input : list or numpy.ndarray\n",
    "        \"\"\"\n",
    "        assert isinstance(a, list) or isinstance(a, tuple) or isinstance(a, Vector), 'Wrong input, insert a list or numpy.ndarray'\n",
    "        self.a = list(a)\n",
    "        return\n",
    "            \n",
    "    def __getitem__(self, i):\n",
    "        \"\"\" get the i element of the Vector\n",
    "        \"\"\"\n",
    "        return self.a[i]\n",
    "    \n",
    "    def __setitem__(self, i, xi):\n",
    "        \"\"\" set the i element to the value xi\n",
    "        \"\"\"\n",
    "        return self.a[i] == xi\n",
    "    \n",
    "    def __len__(self):\n",
    "        \"\"\" length of the Vector\n",
    "        \"\"\"\n",
    "        return len(self.a)\n",
    "    \n",
    "    def __add__(self, x):\n",
    "        \"\"\" add Vector + x\n",
    "        \"\"\"\n",
    "        return Vector([self[i] + x[i] for i in range(len(self))])\n",
    "    \n",
    "    def __radd__(self, x):\n",
    "        \"\"\" add x + Vector\n",
    "        \"\"\"\n",
    "        return Vector.__add__(self, x)\n",
    "    \n",
    "    def __mul__(self, x):\n",
    "        \"\"\" multiply Vector times x\n",
    "        \"\"\"\n",
    "        if isinstance(x, float) or isinstance(x, int) or isinstance(x, complex):\n",
    "            return Vector([self[i] * x for i in range(len(self))])\n",
    "        \n",
    "        if isinstance(x, np.ndarray) or isinstance(x, list) or isinstance(x, Vector):\n",
    "            return Vector([self[i] * x[i] for i in range(len(self))])\n",
    "        \n",
    "    def __rmul__(self, x):\n",
    "        \"\"\" multiply x times Vector\n",
    "        \"\"\"\n",
    "        return Vector.__mul__(self, x)\n",
    "    \n",
    "    def __abs__(self):\n",
    "        \"\"\" calculate the module of the Vector\n",
    "        \"\"\"\n",
    "        return np.sqrt(self * self)\n",
    "    \n",
    "    def __eq__(self, x):\n",
    "        \"\"\" sets x equal to self\n",
    "        \"\"\"\n",
    "        assert isinstance(x, Vector) or isinstance(x, list) or isinstance(x, np.ndarray), 'Type not possible for equality'\n",
    "        return self.a == [x[i] for i in range(len(self))]\n",
    "    \n",
    "    def __float__(self):\n",
    "        \"\"\" convert elements of Vector into floats\n",
    "        \"\"\"\n",
    "        return Vector([np.float(self[i]) for i in range(len(self))])"
   ]
  },
  {
   "cell_type": "markdown",
   "metadata": {},
   "source": [
    "### Matrix class"
   ]
  },
  {
   "cell_type": "code",
   "execution_count": 4,
   "metadata": {},
   "outputs": [],
   "source": [
    "class Matrix:\n",
    "    \n",
    "    def __init__(self, values, rows, columns):\n",
    "        \"\"\" constructor of Matrix.\n",
    "        \"\"\"\n",
    "        self.rows = rows\n",
    "        self.columns = columns\n",
    "        self.a = list(values)\n",
    "        \n",
    "        assert isinstance(values, Vector) or isinstance(values, np.ndarray) or\\\n",
    "        isinstance(values, list), 'Type not understood'\n",
    "        \n",
    "        if type(values) == 'Vector' or type(values) == np.ndarray:\n",
    "            \n",
    "            matrix = np.vstack((np.split(values, rows)))\n",
    "        \n",
    "            self.values = np.array(matrix)\n",
    "        \n",
    "        return\n",
    "    \n",
    "        if type(values) == list:\n",
    "\n",
    "            values_a = np.array([])\n",
    "\n",
    "            for i in values: values_a = np.append(values_a, i)\n",
    "\n",
    "            matrix = np.vstack((np.split(values, rows))) \n",
    "            \n",
    "            self.values = np.array(matrix)\n",
    "        \n",
    "        return\n",
    "    \n",
    "    \n",
    "    def __getitem__(self, i):\n",
    "        \"\"\" get the [i, j] element of the Matrix\n",
    "        \"\"\"\n",
    "        return self.values[i] \n",
    "    \n",
    "    \n",
    "    def __setitem__(self, i, value):\n",
    "        \"\"\" set [i, j] element to value\n",
    "        \"\"\"\n",
    "        self.values[i] = value\n",
    "        return\n",
    "    \n",
    "    \n",
    "    def __add__(self, value):\n",
    "        \"\"\" add self + value\n",
    "        \"\"\"\n",
    "        if type(value) == int or type(value) == float or type(value) == complex:\n",
    "            \n",
    "            return Matrix([self.a[i] + value for i in range(len(self.a))], self.rows, self.columns)\n",
    "    \n",
    "        if type(value) == Matrix:\n",
    "            \n",
    "            c = [self.a[i] + value.a[i] for i in range(len(self.a))]\n",
    "            \n",
    "        return Matrix(c, self.rows, self.columns)\n",
    "                 \n",
    "    \n",
    "    def shape(self):\n",
    "        \"\"\" shape Matrix\n",
    "        \"\"\"\n",
    "        return self.rows, self.columns"
   ]
  },
  {
   "cell_type": "code",
   "execution_count": 5,
   "metadata": {},
   "outputs": [
    {
     "name": "stdout",
     "output_type": "stream",
     "text": [
      "15\n"
     ]
    }
   ],
   "source": [
    "a = [1, 2, 3, 4, 5, 6, 7, 8, 9, 10, 11, 12, 13, 14, 15]\n",
    "\n",
    "b = np.array([])\n",
    "\n",
    "for i in a : b = np.append(b, np.array([i]))\n",
    "\n",
    "print(len(b))"
   ]
  },
  {
   "cell_type": "code",
   "execution_count": 6,
   "metadata": {},
   "outputs": [
    {
     "name": "stdout",
     "output_type": "stream",
     "text": [
      "[[ 1.  2.  3.  4.  5.]\n",
      " [ 6.  7.  8.  9. 10.]\n",
      " [11. 12. 13. 14. 15.]]\n"
     ]
    }
   ],
   "source": [
    "c = Matrix(b, 3, 5)\n",
    "\n",
    "print(c.values)"
   ]
  },
  {
   "cell_type": "code",
   "execution_count": 9,
   "metadata": {},
   "outputs": [
    {
     "name": "stdout",
     "output_type": "stream",
     "text": [
      "<class '__main__.Matrix'> <class '__main__.Matrix'>\n"
     ]
    },
    {
     "ename": "AttributeError",
     "evalue": "'Matrix' object has no attribute 'values'",
     "output_type": "error",
     "traceback": [
      "\u001b[0;31m---------------------------------------------------------------------------\u001b[0m",
      "\u001b[0;31mAttributeError\u001b[0m                            Traceback (most recent call last)",
      "\u001b[0;32m<ipython-input-9-e03239f6f2ad>\u001b[0m in \u001b[0;36m<module>\u001b[0;34m\u001b[0m\n\u001b[1;32m      3\u001b[0m \u001b[0mprint\u001b[0m\u001b[0;34m(\u001b[0m\u001b[0mtype\u001b[0m\u001b[0;34m(\u001b[0m\u001b[0mc\u001b[0m\u001b[0;34m)\u001b[0m\u001b[0;34m,\u001b[0m \u001b[0mtype\u001b[0m\u001b[0;34m(\u001b[0m\u001b[0mh\u001b[0m\u001b[0;34m)\u001b[0m\u001b[0;34m)\u001b[0m\u001b[0;34m\u001b[0m\u001b[0;34m\u001b[0m\u001b[0m\n\u001b[1;32m      4\u001b[0m \u001b[0;34m\u001b[0m\u001b[0m\n\u001b[0;32m----> 5\u001b[0;31m \u001b[0mprint\u001b[0m \u001b[0;34m(\u001b[0m\u001b[0mh\u001b[0m\u001b[0;34m.\u001b[0m\u001b[0mvalues\u001b[0m\u001b[0;34m)\u001b[0m\u001b[0;34m\u001b[0m\u001b[0;34m\u001b[0m\u001b[0m\n\u001b[0m",
      "\u001b[0;31mAttributeError\u001b[0m: 'Matrix' object has no attribute 'values'"
     ]
    }
   ],
   "source": [
    "h = c + 5\n",
    "\n",
    "print(type(c), type(h))\n",
    "\n",
    "print (h.values)"
   ]
  },
  {
   "cell_type": "code",
   "execution_count": 8,
   "metadata": {},
   "outputs": [
    {
     "name": "stdout",
     "output_type": "stream",
     "text": [
      "[5.0, 10.0, 15.0, 20.0, 25.0, 30.0, 35.0, 40.0, 45.0, 50.0, 55.0, 60.0, 65.0, 70.0, 75.0]\n",
      "<class '__main__.Matrix'>\n"
     ]
    }
   ],
   "source": [
    "d = b * 5\n",
    "\n",
    "e = Matrix(d, 3, 5)\n",
    "\n",
    "print(e.a)\n",
    "\n",
    "print(type(e))"
   ]
  },
  {
   "cell_type": "code",
   "execution_count": 606,
   "metadata": {},
   "outputs": [
    {
     "ename": "AttributeError",
     "evalue": "'Matrix' object has no attribute 'values'",
     "output_type": "error",
     "traceback": [
      "\u001b[0;31m---------------------------------------------------------------------------\u001b[0m",
      "\u001b[0;31mAttributeError\u001b[0m                            Traceback (most recent call last)",
      "\u001b[0;32m<ipython-input-606-4dbb068b2291>\u001b[0m in \u001b[0;36m<module>\u001b[0;34m\u001b[0m\n\u001b[1;32m      1\u001b[0m \u001b[0mf\u001b[0m \u001b[0;34m=\u001b[0m \u001b[0mc\u001b[0m \u001b[0;34m+\u001b[0m \u001b[0me\u001b[0m\u001b[0;34m\u001b[0m\u001b[0;34m\u001b[0m\u001b[0m\n\u001b[1;32m      2\u001b[0m \u001b[0;34m\u001b[0m\u001b[0m\n\u001b[0;32m----> 3\u001b[0;31m \u001b[0mprint\u001b[0m\u001b[0;34m(\u001b[0m\u001b[0mf\u001b[0m\u001b[0;34m.\u001b[0m\u001b[0mvalues\u001b[0m\u001b[0;34m)\u001b[0m\u001b[0;34m\u001b[0m\u001b[0;34m\u001b[0m\u001b[0m\n\u001b[0m\u001b[1;32m      4\u001b[0m \u001b[0;34m\u001b[0m\u001b[0m\n\u001b[1;32m      5\u001b[0m \u001b[0mprint\u001b[0m\u001b[0;34m(\u001b[0m\u001b[0mMatrix\u001b[0m\u001b[0;34m.\u001b[0m\u001b[0mshape\u001b[0m\u001b[0;34m(\u001b[0m\u001b[0mf\u001b[0m\u001b[0;34m)\u001b[0m\u001b[0;34m)\u001b[0m\u001b[0;34m\u001b[0m\u001b[0;34m\u001b[0m\u001b[0m\n",
      "\u001b[0;31mAttributeError\u001b[0m: 'Matrix' object has no attribute 'values'"
     ]
    }
   ],
   "source": [
    "f = c + e\n",
    "\n",
    "print(f.values)\n",
    "\n",
    "print(Matrix.shape(f))\n",
    "\n",
    "#print(e.a, c.a)"
   ]
  }
 ],
 "metadata": {
  "kernelspec": {
   "display_name": "Python 3",
   "language": "python",
   "name": "python3"
  },
  "language_info": {
   "codemirror_mode": {
    "name": "ipython",
    "version": 3
   },
   "file_extension": ".py",
   "mimetype": "text/x-python",
   "name": "python",
   "nbconvert_exporter": "python",
   "pygments_lexer": "ipython3",
   "version": "3.8.3"
  }
 },
 "nbformat": 4,
 "nbformat_minor": 2
}
