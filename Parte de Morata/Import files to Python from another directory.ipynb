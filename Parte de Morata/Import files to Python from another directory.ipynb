{
 "cells": [
  {
   "cell_type": "markdown",
   "metadata": {},
   "source": [
    "# Importing files from another directories to Pyhton"
   ]
  },
  {
   "cell_type": "markdown",
   "metadata": {},
   "source": [
    "In orther for Python to interact with the UNIX operative system, it's necessary to import the library __os__. In this library there's a variable called PYTHONPATH that initially \"doesn't have any value\" (it truly does contain an intrinsic value, wich is the former route where Python is being executed). PYTHONPATH contains a list of all the routes where Python is going to search for files.\n",
    "\n",
    "Using __os.environ[\"PYTHONPATH\"]__, we can assign new values (routes) to this variable. Here is an example:"
   ]
  },
  {
   "cell_type": "code",
   "execution_count": 1,
   "metadata": {},
   "outputs": [],
   "source": [
    "import os\n",
    "\n",
    "os.environ[\"PYTHONPATH\"] = \"/Users/xoan/Desktop/\""
   ]
  },
  {
   "cell_type": "markdown",
   "metadata": {},
   "source": [
    "Now PYTHONPATH has two values (routes), the execution route and the route \"/Users/xoan/Desktop\". If we want to add more routes to PYTHONPATH without deleting \"/Users/xoan/Desktop\", we should use the following sintax:"
   ]
  },
  {
   "cell_type": "code",
   "execution_count": 2,
   "metadata": {},
   "outputs": [
    {
     "name": "stdout",
     "output_type": "stream",
     "text": [
      "/Users/xoan/Desktop//Users/xoan/Deskton/Fisisca\n"
     ]
    }
   ],
   "source": [
    "os.environ[\"PYTHONPATH\"] += \"/Users/xoan/Deskton/Fisisca\"\n",
    "\n",
    "print(os.environ[\"PYTHONPATH\"])"
   ]
  },
  {
   "cell_type": "markdown",
   "metadata": {},
   "source": [
    "We can see all __os.environ__ class functions using:"
   ]
  },
  {
   "cell_type": "code",
   "execution_count": 3,
   "metadata": {
    "scrolled": true
   },
   "outputs": [
    {
     "data": {
      "text/plain": [
       "['_MutableMapping__marker',\n",
       " '__abstractmethods__',\n",
       " '__class__',\n",
       " '__contains__',\n",
       " '__delattr__',\n",
       " '__delitem__',\n",
       " '__dict__',\n",
       " '__dir__',\n",
       " '__doc__',\n",
       " '__eq__',\n",
       " '__format__',\n",
       " '__ge__',\n",
       " '__getattribute__',\n",
       " '__getitem__',\n",
       " '__gt__',\n",
       " '__hash__',\n",
       " '__init__',\n",
       " '__init_subclass__',\n",
       " '__iter__',\n",
       " '__le__',\n",
       " '__len__',\n",
       " '__lt__',\n",
       " '__module__',\n",
       " '__ne__',\n",
       " '__new__',\n",
       " '__reduce__',\n",
       " '__reduce_ex__',\n",
       " '__repr__',\n",
       " '__reversed__',\n",
       " '__setattr__',\n",
       " '__setitem__',\n",
       " '__sizeof__',\n",
       " '__slots__',\n",
       " '__str__',\n",
       " '__subclasshook__',\n",
       " '__weakref__',\n",
       " '_abc_impl',\n",
       " '_data',\n",
       " 'clear',\n",
       " 'copy',\n",
       " 'decodekey',\n",
       " 'decodevalue',\n",
       " 'encodekey',\n",
       " 'encodevalue',\n",
       " 'get',\n",
       " 'items',\n",
       " 'keys',\n",
       " 'pop',\n",
       " 'popitem',\n",
       " 'putenv',\n",
       " 'setdefault',\n",
       " 'unsetenv',\n",
       " 'update',\n",
       " 'values']"
      ]
     },
     "execution_count": 3,
     "metadata": {},
     "output_type": "execute_result"
    }
   ],
   "source": [
    "dir (os.environ)"
   ]
  },
  {
   "cell_type": "markdown",
   "metadata": {},
   "source": [
    "Function __os.environ.keys__ allows us to see all the variables of the system wich we are able to call, reasign, etc."
   ]
  },
  {
   "cell_type": "code",
   "execution_count": 4,
   "metadata": {
    "scrolled": true
   },
   "outputs": [
    {
     "data": {
      "text/plain": [
       "['TERM_PROGRAM',\n",
       " 'SHELL',\n",
       " 'TERM',\n",
       " 'TMPDIR',\n",
       " 'CONDA_SHLVL',\n",
       " 'TERM_PROGRAM_VERSION',\n",
       " 'CONDA_PROMPT_MODIFIER',\n",
       " 'TERM_SESSION_ID',\n",
       " 'USER',\n",
       " 'CONDA_EXE',\n",
       " 'SSH_AUTH_SOCK',\n",
       " '_CE_CONDA',\n",
       " 'CONDA_PREFIX_1',\n",
       " 'PATH',\n",
       " 'CONDA_PREFIX',\n",
       " 'PWD',\n",
       " 'LANG',\n",
       " 'XPC_FLAGS',\n",
       " 'XPC_SERVICE_NAME',\n",
       " '_CE_M',\n",
       " 'SHLVL',\n",
       " 'HOME',\n",
       " 'LOGNAME',\n",
       " 'CONDA_PYTHON_EXE',\n",
       " 'CONDA_DEFAULT_ENV',\n",
       " '_',\n",
       " 'KERNEL_LAUNCH_TIMEOUT',\n",
       " 'JPY_PARENT_PID',\n",
       " 'CLICOLOR',\n",
       " 'PAGER',\n",
       " 'GIT_PAGER',\n",
       " 'MPLBACKEND',\n",
       " 'PYTHONPATH']"
      ]
     },
     "execution_count": 4,
     "metadata": {},
     "output_type": "execute_result"
    }
   ],
   "source": [
    "list(os.environ.keys())"
   ]
  },
  {
   "cell_type": "code",
   "execution_count": null,
   "metadata": {},
   "outputs": [],
   "source": []
  }
 ],
 "metadata": {
  "kernelspec": {
   "display_name": "Python 3",
   "language": "python",
   "name": "python3"
  },
  "language_info": {
   "codemirror_mode": {
    "name": "ipython",
    "version": 3
   },
   "file_extension": ".py",
   "mimetype": "text/x-python",
   "name": "python",
   "nbconvert_exporter": "python",
   "pygments_lexer": "ipython3",
   "version": "3.8.3"
  }
 },
 "nbformat": 4,
 "nbformat_minor": 4
}
